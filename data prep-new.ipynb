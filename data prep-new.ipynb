{
 "cells": [
  {
   "cell_type": "code",
   "execution_count": null,
   "metadata": {},
   "outputs": [],
   "source": [
    "import pandas as pd\n",
    "from matplotlib import pyplot as plt\n",
    "import seaborn as sns"
   ]
  },
  {
   "cell_type": "code",
   "execution_count": null,
   "metadata": {},
   "outputs": [],
   "source": [
    "from preprocessing.LLV.new_LLV import prepare_demand, prepare_hsmdemand, prepare_oh, prepare_demand_daily\n",
    "# from preprocessing.LLV import preproc_LLV"
   ]
  },
  {
   "cell_type": "code",
   "execution_count": null,
   "metadata": {},
   "outputs": [],
   "source": [
    "from preprocessing.ts_tools import seasonal_plot, plot_periodogram, make_mas, make_lags, make_multistep_target, plot_lags"
   ]
  },
  {
   "cell_type": "code",
   "execution_count": null,
   "metadata": {},
   "outputs": [],
   "source": [
    "#3. define module interface\n",
    "from dsml_s8e.module import DSMLModule, DSMLModuleRunResult\n",
    "\n",
    "module = DSMLModule(parameters,run_parameters)\n",
    "\n",
    "a7s_urls = module.make_artifacts_urls(\n",
    "    entity_names=[\n",
    "        \"data\",\n",
    "        \"oh\",\n",
    "        \"consumption\",\n",
    "        \"qd\",\n",
    "        \"other_skus\"])\n",
    "\n",
    "comp2_urls = module.make_component_resource_urls(\n",
    "    \"0_data_load\", env_name = 'prod', \n",
    "    entity_names=[\n",
    "        \"consumption\",\n",
    "        \"oh\",\n",
    "        \"qd\"])\n",
    "\n",
    "# custom_urls = module.make_custom_resource_urls(\n",
    "#     entity_dict={\n",
    "#         \"entity10\":\"/data/products/fakeproduct/fakeentity10\", \n",
    "#         \"entity11\":\"/data/products/fakeproduct2/fakedir/fakeentity11\"})\n",
    "\n",
    "# cache_uls = module.make_cache_urls( \n",
    "#     new_cache_entity_names=[\n",
    "#         \"cache_entity1.json\", \n",
    "#         \"cache_entity2\"],    \n",
    "#     last_cache_entity_names=[])\n",
    "\n",
    "module.print_urls()"
   ]
  },
  {
   "cell_type": "code",
   "execution_count": null,
   "metadata": {},
   "outputs": [],
   "source": [
    "#7. get secrets if needed\n",
    "\n",
    "from dsml_s8e.security import *\n",
    "\n",
    "env = module.env_name\n",
    "stand = module.stand_name\n",
    "\n",
    "#my_secret_value = get_vault_variable(f'{env}.{stand}.postreSQL.password')"
   ]
  },
  {
   "cell_type": "code",
   "execution_count": null,
   "metadata": {},
   "outputs": [],
   "source": [
    "#5 run spark\n",
    "\n",
    "from dsml_s8e.spark import SparkEnvironment\n",
    "SparkEnvironment.stopSparkSession()\n",
    "spark = SparkEnvironment.runSparkSession()\n",
    "SparkEnvironment.showSparkUI()\n",
    "import atexit\n",
    "_=atexit.register(SparkEnvironment.stopSparkSession)"
   ]
  },
  {
   "cell_type": "code",
   "execution_count": null,
   "metadata": {},
   "outputs": [],
   "source": [
    "SparkEnvironment.showResourceUsage()"
   ]
  },
  {
   "cell_type": "code",
   "execution_count": null,
   "metadata": {},
   "outputs": [],
   "source": [
    "#9. read resources \n",
    "\n",
    "cons = spark.read.parquet(comp2_urls.consumption).toPandas()\n",
    "oh = spark.read.parquet(comp2_urls.oh).toPandas()\n",
    "qd = spark.read.parquet(comp2_urls.qd).toPandas()"
   ]
  },
  {
   "cell_type": "code",
   "execution_count": null,
   "metadata": {},
   "outputs": [],
   "source": [
    "for df_ in [oh]:\n",
    "    df_.sort_index(inplace=True)"
   ]
  },
  {
   "cell_type": "code",
   "execution_count": null,
   "metadata": {},
   "outputs": [],
   "source": [
    "import numpy as np\n",
    "from dateutil import parser\n",
    "from datetime import datetime\n",
    "import sys, os\n",
    "import re\n",
    "import warnings\n",
    "warnings.filterwarnings('ignore')"
   ]
  },
  {
   "cell_type": "code",
   "execution_count": null,
   "metadata": {},
   "outputs": [],
   "source": [
    "# len(ddmrp_skus)"
   ]
  },
  {
   "cell_type": "markdown",
   "metadata": {},
   "source": [
    "# Consumption"
   ]
  },
  {
   "cell_type": "code",
   "execution_count": null,
   "metadata": {},
   "outputs": [],
   "source": [
    "cons = cons.loc[~cons.WEIGHT.isna()]"
   ]
  },
  {
   "cell_type": "code",
   "execution_count": null,
   "metadata": {},
   "outputs": [],
   "source": [
    "cons_daily = prepare_demand_daily(cons.copy())"
   ]
  },
  {
   "cell_type": "code",
   "execution_count": null,
   "metadata": {},
   "outputs": [],
   "source": [
    "cons = prepare_demand(cons.copy())"
   ]
  },
  {
   "cell_type": "code",
   "execution_count": null,
   "metadata": {},
   "outputs": [],
   "source": [
    "cons.groupby([cons.index.year, cons.index.month])['demand'].sum()\n",
    "# .to_excel('llv.xlsx')"
   ]
  },
  {
   "cell_type": "markdown",
   "metadata": {
    "tags": []
   },
   "source": [
    "# OH stock"
   ]
  },
  {
   "cell_type": "code",
   "execution_count": null,
   "metadata": {},
   "outputs": [],
   "source": [
    "# def prepare_oh(df):\n",
    "#     df.columns = [\"flag\", \"sku\", \"assigned\", \"not_assigned\", \"date\"]\n",
    "#     df['booked'] = df[df.flag == 'on stock']['assigned']\n",
    "#     df['available'] = df[df.flag == 'on stock']['not_assigned']\n",
    "#     df['in_transit'] = df[df.flag == 'in transit']['assigned'] + df[df.flag == 'in transit']['not_assigned']\n",
    "#     df['virtual'] = df[df.flag == 'virtual']['assigned'] + df[df.flag == 'virtual']['not_assigned']\n",
    "#     df[\"sku\"] = df[\"sku\"].apply(lambda x: x.replace(\"_\", \"-\"))\n",
    "#     df[\"booked\"] = df[\"booked\"].astype(float)\n",
    "#     df[\"available\"] = df[\"available\"].astype(float)\n",
    "#     df = df.fillna(0)\n",
    "#     df[\"oh\"] = df[\"booked\"] + df[\"available\"]\n",
    "#     df = df.groupby(by = ['sku', 'date']).sum()[['booked', 'available', 'in_transit', 'virtual', 'oh']].reset_index()\n",
    "#     return df"
   ]
  },
  {
   "cell_type": "code",
   "execution_count": null,
   "metadata": {},
   "outputs": [],
   "source": [
    "oh"
   ]
  },
  {
   "cell_type": "code",
   "execution_count": null,
   "metadata": {},
   "outputs": [],
   "source": [
    "oh = prepare_oh(oh)"
   ]
  },
  {
   "cell_type": "code",
   "execution_count": null,
   "metadata": {},
   "outputs": [],
   "source": [
    "oh.index = pd.to_datetime(oh.pop('date'), format = '%Y-%m-%d')"
   ]
  },
  {
   "cell_type": "markdown",
   "metadata": {
    "tags": []
   },
   "source": [
    "# Загрузка данных по QD"
   ]
  },
  {
   "cell_type": "code",
   "execution_count": null,
   "metadata": {},
   "outputs": [],
   "source": [
    "# def prepare_hsmdemand(df, mapping_sku):\n",
    "#     df.columns = ['sku', 'due_date', 'volume', 'date']\n",
    "#     df[\"sku\"] = df[\"sku\"].apply(lambda x: x.replace(\"_\", \"-\"))\n",
    "#     return df"
   ]
  },
  {
   "cell_type": "code",
   "execution_count": null,
   "metadata": {},
   "outputs": [],
   "source": [
    "qd = prepare_hsmdemand(qd)"
   ]
  },
  {
   "cell_type": "code",
   "execution_count": null,
   "metadata": {},
   "outputs": [],
   "source": [
    "qd.index = pd.to_datetime(qd.pop('date'), format = '%Y-%m-%d')"
   ]
  },
  {
   "cell_type": "code",
   "execution_count": null,
   "metadata": {},
   "outputs": [],
   "source": [
    "qd.volume = qd.volume.astype('int')"
   ]
  },
  {
   "cell_type": "code",
   "execution_count": null,
   "metadata": {},
   "outputs": [],
   "source": [
    "qd"
   ]
  },
  {
   "cell_type": "markdown",
   "metadata": {
    "tags": []
   },
   "source": [
    "### Вспомогательный df"
   ]
  },
  {
   "cell_type": "code",
   "execution_count": null,
   "metadata": {},
   "outputs": [],
   "source": [
    "week_df = pd.DataFrame(index=pd.date_range('2019', '2024', freq='1d'), columns=['Week of year'])"
   ]
  },
  {
   "cell_type": "code",
   "execution_count": null,
   "metadata": {},
   "outputs": [],
   "source": [
    "week_df['Week of year'] = week_df.index.weekofyear"
   ]
  },
  {
   "cell_type": "code",
   "execution_count": null,
   "metadata": {},
   "outputs": [],
   "source": [
    "week_df.index.name = 'date'"
   ]
  },
  {
   "cell_type": "code",
   "execution_count": null,
   "metadata": {},
   "outputs": [],
   "source": [
    "# cons = cons.reset_index().merge(week_df.reset_index(), how = 'left').set_index('date')\n",
    "# cons['year'] = cons.index.year"
   ]
  },
  {
   "cell_type": "markdown",
   "metadata": {},
   "source": [
    "### Сбор датасета"
   ]
  },
  {
   "cell_type": "code",
   "execution_count": null,
   "metadata": {},
   "outputs": [],
   "source": [
    "cons = cons.groupby([cons.index, cons['sku']]).sum().unstack('sku').fillna(0)"
   ]
  },
  {
   "cell_type": "code",
   "execution_count": null,
   "metadata": {},
   "outputs": [],
   "source": [
    "cols = cons.loc[:, 'demand'].columns"
   ]
  },
  {
   "cell_type": "code",
   "execution_count": null,
   "metadata": {},
   "outputs": [],
   "source": [
    "axs = cons.loc(axis=1)[:, cols[7:13]].plot(\n",
    "    subplots=True, sharex=True, figsize=(11, 9), alpha=0.5,\n",
    ")\n",
    "for ax, family in zip(axs, cols[7:13]):\n",
    "    ax.legend([])\n",
    "    ax.set_ylabel(family)"
   ]
  },
  {
   "cell_type": "code",
   "execution_count": null,
   "metadata": {},
   "outputs": [],
   "source": [
    "cons = cons.loc[:,'demand'].reset_index().melt(id_vars = 'date', value_name='demand').set_index('date')"
   ]
  },
  {
   "cell_type": "code",
   "execution_count": null,
   "metadata": {},
   "outputs": [],
   "source": [
    "cons['year'] = cons.index.year\n",
    "cons['month'] = cons.index.month"
   ]
  },
  {
   "cell_type": "code",
   "execution_count": null,
   "metadata": {},
   "outputs": [],
   "source": [
    "plt.figure()\n",
    "plt.yticks(np.arange(0,1000000, 50000))\n",
    "sns.lineplot(y = cons.groupby('sku')['demand'].sum().sort_values().quantile(0.5),\n",
    "                 x = cons.groupby('sku')['demand'].sum().index)\n",
    "cons.groupby('sku')['demand'].sum().sort_values().plot()\n",
    "plt.legend()"
   ]
  },
  {
   "cell_type": "markdown",
   "metadata": {},
   "source": [
    "### Seasonals"
   ]
  },
  {
   "cell_type": "code",
   "execution_count": null,
   "metadata": {},
   "outputs": [],
   "source": [
    "top = list(cons.groupby('sku')['demand'].sum().sort_values(ascending = False).index)[:6]"
   ]
  },
  {
   "cell_type": "code",
   "execution_count": null,
   "metadata": {},
   "outputs": [],
   "source": [
    "fig, axes = plt.subplots(6, 1, figsize = (15,25))\n",
    "for n, ax in enumerate(fig.get_axes()):\n",
    "    seasonal_plot(X = cons.loc[cons.sku == top[n], ['month', 'year']],\n",
    "                  y = cons.loc[cons.sku == top[n], 'demand'], period = 'year', freq = 'month', ax=ax)"
   ]
  },
  {
   "cell_type": "markdown",
   "metadata": {},
   "source": [
    "#### Periodigram"
   ]
  },
  {
   "cell_type": "code",
   "execution_count": null,
   "metadata": {},
   "outputs": [],
   "source": [
    "plot_periodogram(cons_daily.loc[cons_daily.sku == top[5], 'demand'])"
   ]
  },
  {
   "cell_type": "markdown",
   "metadata": {},
   "source": [
    "### Lags"
   ]
  },
  {
   "cell_type": "code",
   "execution_count": null,
   "metadata": {},
   "outputs": [],
   "source": [
    "from statsmodels.graphics.tsaplots import plot_pacf"
   ]
  },
  {
   "cell_type": "code",
   "execution_count": null,
   "metadata": {},
   "outputs": [],
   "source": [
    "_ = plot_lags(cons.loc[cons.sku == top[5], 'demand'], lags=6, nrows=2, figsize = (10,7))\n",
    "_ = plot_pacf(cons.loc[cons.sku == top[5], 'demand'], lags=12)"
   ]
  },
  {
   "cell_type": "markdown",
   "metadata": {},
   "source": [
    "### Top skus"
   ]
  },
  {
   "cell_type": "code",
   "execution_count": null,
   "metadata": {},
   "outputs": [],
   "source": [
    "# top = (cons.groupby('sku')['demand'].sum()/12).sort_values(ascending = False)"
   ]
  },
  {
   "cell_type": "code",
   "execution_count": null,
   "metadata": {},
   "outputs": [],
   "source": [
    "top = (cons[cons.index > (cons.index[-1] - pd.Timedelta('365d'))].groupby('sku')['demand'].sum()/12).sort_values(ascending = False)"
   ]
  },
  {
   "cell_type": "code",
   "execution_count": null,
   "metadata": {},
   "outputs": [],
   "source": [
    "top = list(top.loc[top.gt(200)].index)"
   ]
  },
  {
   "cell_type": "code",
   "execution_count": null,
   "metadata": {},
   "outputs": [],
   "source": [
    "len(top)"
   ]
  },
  {
   "cell_type": "code",
   "execution_count": null,
   "metadata": {},
   "outputs": [],
   "source": [
    "other_skus = np.setdiff1d(cons.sku.unique(), top)"
   ]
  },
  {
   "cell_type": "code",
   "execution_count": null,
   "metadata": {},
   "outputs": [],
   "source": [
    "len(other_skus)"
   ]
  },
  {
   "cell_type": "code",
   "execution_count": null,
   "metadata": {},
   "outputs": [],
   "source": [
    "ddmrp_skus = top"
   ]
  },
  {
   "cell_type": "code",
   "execution_count": null,
   "metadata": {},
   "outputs": [],
   "source": [
    "cons = cons.loc[cons.sku.isin(ddmrp_skus)]"
   ]
  },
  {
   "cell_type": "code",
   "execution_count": null,
   "metadata": {},
   "outputs": [],
   "source": [
    "cons = cons.sort_values(by = ['date', 'sku'])"
   ]
  },
  {
   "cell_type": "code",
   "execution_count": null,
   "metadata": {},
   "outputs": [],
   "source": [
    "cons.groupby([cons.index.year, cons.index.month])['demand'].sum()"
   ]
  },
  {
   "cell_type": "markdown",
   "metadata": {
    "tags": []
   },
   "source": [
    "### Lags, MAs, multitarget"
   ]
  },
  {
   "cell_type": "code",
   "execution_count": null,
   "metadata": {},
   "outputs": [],
   "source": [
    "lags = cons.groupby('sku')['demand'].apply(lambda x : make_lags(x, 4))"
   ]
  },
  {
   "cell_type": "code",
   "execution_count": null,
   "metadata": {},
   "outputs": [],
   "source": [
    "mas = cons.groupby('sku')['demand'].apply(lambda x : make_mas(x, np.arange(2,7)))"
   ]
  },
  {
   "cell_type": "code",
   "execution_count": null,
   "metadata": {},
   "outputs": [],
   "source": [
    "ys = cons.groupby('sku')['demand'].apply(lambda x : make_multistep_target(x, 3, 'demand'))"
   ]
  },
  {
   "cell_type": "code",
   "execution_count": null,
   "metadata": {},
   "outputs": [],
   "source": [
    "df = pd.concat([cons, lags, mas, ys], axis = 1)"
   ]
  },
  {
   "cell_type": "code",
   "execution_count": null,
   "metadata": {},
   "outputs": [],
   "source": [
    "target_df = df.dropna(subset=['y_lag_1', 'y_lag_2', 'y_lag_3', 'y_lag_4', 'MA_2', 'MA_3', 'MA_4', 'MA_5', 'MA_6'])"
   ]
  },
  {
   "cell_type": "code",
   "execution_count": null,
   "metadata": {},
   "outputs": [],
   "source": [
    "target_df.loc[target_df.sku == 'DUC031-1450']"
   ]
  },
  {
   "cell_type": "markdown",
   "metadata": {},
   "source": [
    "### Trend"
   ]
  },
  {
   "cell_type": "code",
   "execution_count": null,
   "metadata": {},
   "outputs": [],
   "source": [
    "from statsmodels.tsa.deterministic import DeterministicProcess"
   ]
  },
  {
   "cell_type": "code",
   "execution_count": null,
   "metadata": {},
   "outputs": [],
   "source": [
    "y = cons.loc[cons.sku == top[1], 'demand']"
   ]
  },
  {
   "cell_type": "code",
   "execution_count": null,
   "metadata": {},
   "outputs": [],
   "source": [
    "dp = DeterministicProcess(\n",
    "    index=y.index,\n",
    "    order=2,\n",
    "    drop=True,\n",
    ")"
   ]
  },
  {
   "cell_type": "code",
   "execution_count": null,
   "metadata": {},
   "outputs": [],
   "source": [
    "target_df = target_df.join(dp.in_sample(), how = 'left')"
   ]
  },
  {
   "cell_type": "markdown",
   "metadata": {
    "tags": []
   },
   "source": [
    "## Подготовка df о планах на потребления"
   ]
  },
  {
   "cell_type": "code",
   "execution_count": null,
   "metadata": {},
   "outputs": [],
   "source": [
    "sl_df = pd.read_excel('Slab_analytic.xlsx', sheet_name= 'PRM')"
   ]
  },
  {
   "cell_type": "code",
   "execution_count": null,
   "metadata": {},
   "outputs": [],
   "source": [
    "mask_base = (sl_df.Division.str.contains('STRIP') & (sl_df.Attribute.str.contains('consumption')))"
   ]
  },
  {
   "cell_type": "code",
   "execution_count": null,
   "metadata": {},
   "outputs": [],
   "source": [
    "sl_df = sl_df.loc[mask_base]"
   ]
  },
  {
   "cell_type": "code",
   "execution_count": null,
   "metadata": {},
   "outputs": [],
   "source": [
    "sl_df = sl_df.sort_values(by = ['PRM data', 'Year'])"
   ]
  },
  {
   "cell_type": "code",
   "execution_count": null,
   "metadata": {},
   "outputs": [],
   "source": [
    "t_df = pd.DataFrame(columns=['year', 'month',  'nam_month', 'pr_m', 'pr_2m'],\n",
    "                    index = pd.date_range('2020-01', f\"{parameters['next_year']}-{parameters['next_month']}\", freq='M'))"
   ]
  },
  {
   "cell_type": "code",
   "execution_count": null,
   "metadata": {},
   "outputs": [],
   "source": [
    "t_df['year'] = (t_df.index + pd.Timedelta('10d')).year\n",
    "t_df['month'] = (t_df.index + pd.Timedelta('10d')).month"
   ]
  },
  {
   "cell_type": "code",
   "execution_count": null,
   "metadata": {},
   "outputs": [],
   "source": [
    "t_df['nam_month'] = (t_df.index + pd.Timedelta('10d')).month_name().str.slice(0,3)"
   ]
  },
  {
   "cell_type": "code",
   "execution_count": null,
   "metadata": {},
   "outputs": [],
   "source": [
    "# t_df['date_of_prediction'] = t_df.index.strftime('%Y%m')"
   ]
  },
  {
   "cell_type": "code",
   "execution_count": null,
   "metadata": {},
   "outputs": [],
   "source": [
    "t_df['full_date_of_prediction'] = t_df.index.strftime('%Y%m%d')"
   ]
  },
  {
   "cell_type": "code",
   "execution_count": null,
   "metadata": {},
   "outputs": [],
   "source": [
    "for f_o_p, year, nam_month in t_df[['full_date_of_prediction', 'year', 'nam_month']].values:\n",
    "    t_df.loc[(t_df.year == year) & (t_df.nam_month == nam_month), 'pr_m'] =\\\n",
    "        sl_df.loc[(sl_df.Month == nam_month) & (sl_df.Year == year) &\\\n",
    "                          (sl_df['PRM data'].astype('int') <= int(f_o_p)), 'Volume'].values[-1]"
   ]
  },
  {
   "cell_type": "code",
   "execution_count": null,
   "metadata": {},
   "outputs": [],
   "source": [
    "monthes = {'Jan' : '01',\n",
    "           'Feb':'02', 'Mar':'03', 'Apr':'04', 'May':'05', 'Jun':'06', 'Jul':'07', 'Aug':'08', 'Sep':'09',\n",
    "       'Oct':'10', 'Nov':'11', 'Dec':'12'}"
   ]
  },
  {
   "cell_type": "code",
   "execution_count": null,
   "metadata": {},
   "outputs": [],
   "source": [
    "for f_o_p in t_df['full_date_of_prediction'].values:\n",
    "    max_sl = sl_df.loc[((sl_df.Year.astype('str') +\\\n",
    "    sl_df.Month.apply(lambda x : monthes[x])).astype('int') >\\\n",
    "                        int(f_o_p[:-2])) & (sl_df['PRM data'] <= int(f_o_p))]\n",
    "    t_df.loc[(t_df['full_date_of_prediction'] == f_o_p), 'pr_2m'] =\\\n",
    "        max_sl.loc[max_sl['PRM data'] == max_sl[\"PRM data\"].astype(\"int\").max(), 'Volume'].iloc[1].mean()"
   ]
  },
  {
   "cell_type": "code",
   "execution_count": null,
   "metadata": {},
   "outputs": [],
   "source": [
    "t_df = t_df.drop(['nam_month', 'full_date_of_prediction'], axis = 1)"
   ]
  },
  {
   "cell_type": "markdown",
   "metadata": {
    "tags": []
   },
   "source": [
    "## Добавление"
   ]
  },
  {
   "cell_type": "code",
   "execution_count": null,
   "metadata": {},
   "outputs": [],
   "source": [
    "target_df1 = target_df.merge(t_df, how='left')"
   ]
  },
  {
   "cell_type": "code",
   "execution_count": null,
   "metadata": {},
   "outputs": [],
   "source": [
    "target_df1[['pr_m', 'pr_2m']] = target_df1[['pr_m', 'pr_2m']].round(2).astype('float')"
   ]
  },
  {
   "cell_type": "code",
   "execution_count": null,
   "metadata": {},
   "outputs": [],
   "source": [
    "target_df1['grade'] = target_df1.sku.str.extract('(.+)-')"
   ]
  },
  {
   "cell_type": "code",
   "execution_count": null,
   "metadata": {},
   "outputs": [],
   "source": [
    "target_df1['demand'] = target_df1[['demand_1', 'demand_2', 'demand_3']].sum(1)"
   ]
  },
  {
   "cell_type": "code",
   "execution_count": null,
   "metadata": {},
   "outputs": [],
   "source": [
    "# target_df1 = target_df1.dropna()"
   ]
  },
  {
   "cell_type": "code",
   "execution_count": null,
   "metadata": {},
   "outputs": [],
   "source": [
    "target_df1.index.name = 'date'"
   ]
  },
  {
   "cell_type": "code",
   "execution_count": null,
   "metadata": {},
   "outputs": [],
   "source": [
    "target_df1['ew_ma'] = target_df1.groupby('sku')['y_lag_1'].ewm(alpha = 0.8).mean().reset_index().sort_values(['date', 'sku'])['y_lag_1'].values"
   ]
  },
  {
   "cell_type": "code",
   "execution_count": null,
   "metadata": {},
   "outputs": [],
   "source": [
    "target_df1['av_adu'] = target_df1.groupby('sku')['y_lag_1'].expanding().mean().reset_index().sort_values(['date', 'sku'])['y_lag_1'].values"
   ]
  },
  {
   "cell_type": "code",
   "execution_count": null,
   "metadata": {},
   "outputs": [],
   "source": [
    "target_df1['total_MA_6'] = target_df1.groupby(['year', 'month'])['MA_6'].transform('sum')"
   ]
  },
  {
   "cell_type": "code",
   "execution_count": null,
   "metadata": {},
   "outputs": [],
   "source": [
    "target_df1['perc'] = target_df1['MA_6']/target_df1['total_MA_6']"
   ]
  },
  {
   "cell_type": "code",
   "execution_count": null,
   "metadata": {},
   "outputs": [],
   "source": [
    "target_df1['pr_cons'] = target_df1.perc*target_df1.pr_m"
   ]
  },
  {
   "cell_type": "code",
   "execution_count": null,
   "metadata": {},
   "outputs": [],
   "source": [
    "target_df1 = target_df1.where(pd.notnull(target_df1), None)"
   ]
  },
  {
   "cell_type": "code",
   "execution_count": null,
   "metadata": {},
   "outputs": [],
   "source": [
    "#7. make something to create artifacts\n",
    "df1 = spark.createDataFrame(target_df1.reset_index())\n",
    "# df2 = spark.createDataFrame(oh.reset_index())\n",
    "df3 = spark.createDataFrame(cons_daily.reset_index())\n",
    "# df4 = spark.createDataFrame(qd.reset_index())\n",
    "# df5 = spark.createDataFrame(qd.reset_index())\n",
    "# df5 = spark.createDataFrame(in_sup.reset_index())"
   ]
  },
  {
   "cell_type": "code",
   "execution_count": null,
   "metadata": {},
   "outputs": [],
   "source": [
    "#8 write artifacts\n",
    "df1.write.parquet(a7s_urls.data, mode='overwrite')\n",
    "# df2.write.parquet(a7s_urls.oh, mode='overwrite')\n",
    "df3.write.parquet(a7s_urls.consumption, mode='overwrite')\n",
    "# df4.write.parquet(a7s_urls.qd, mode='overwrite')\n",
    "# df5.write.parquet(a7s_urls.qd, mode='overwrite')\n",
    "# df5.write.parquet(a7s_urls.in_sup, mode='overwrite')"
   ]
  },
  {
   "cell_type": "code",
   "execution_count": null,
   "metadata": {
    "tags": [
     "result"
    ]
   },
   "outputs": [],
   "source": [
    "#11 specify result( SUCCESS/FAIL )\n",
    "module.run_result = DSMLModuleRunResult.SUCCESS"
   ]
  },
  {
   "cell_type": "code",
   "execution_count": null,
   "metadata": {},
   "outputs": [],
   "source": [
    "#10 stop spark\n",
    "\n",
    "SparkEnvironment.stopSparkSession()"
   ]
  },
  {
   "cell_type": "code",
   "execution_count": null,
   "metadata": {},
   "outputs": [],
   "source": []
  }
 ],
 "metadata": {
  "celltoolbar": "Tags",
  "kernelspec": {
   "display_name": "Python 3 (ipykernel)",
   "language": "python",
   "name": "python3"
  },
  "language_info": {
   "codemirror_mode": {
    "name": "ipython",
    "version": 3
   },
   "file_extension": ".py",
   "mimetype": "text/x-python",
   "name": "python",
   "nbconvert_exporter": "python",
   "pygments_lexer": "ipython3",
   "version": "3.10.8"
  }
 },
 "nbformat": 4,
 "nbformat_minor": 4
}
